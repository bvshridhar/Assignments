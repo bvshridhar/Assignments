{
 "cells": [
  {
   "cell_type": "markdown",
   "id": "70bdc366",
   "metadata": {},
   "source": [
    "# Create You own built-in class method"
   ]
  },
  {
   "cell_type": "code",
   "execution_count": 2,
   "id": "7fc1be8c",
   "metadata": {},
   "outputs": [],
   "source": [
    "class power:\n",
    "    def __init__(self,x,n):\n",
    "        self.x=x\n",
    "        self.n=n\n",
    "        self.result=0\n",
    "    def nth_power(self):\n",
    "        self.result=pow(self.x,self.n)\n",
    "        print(self.result)"
   ]
  },
  {
   "cell_type": "code",
   "execution_count": 3,
   "id": "42bde333",
   "metadata": {},
   "outputs": [],
   "source": [
    "find=power(10,2)"
   ]
  },
  {
   "cell_type": "code",
   "execution_count": 4,
   "id": "15cf75e6",
   "metadata": {},
   "outputs": [
    {
     "name": "stdout",
     "output_type": "stream",
     "text": [
      "100\n"
     ]
    }
   ],
   "source": [
    "find.nth_power()"
   ]
  },
  {
   "cell_type": "code",
   "execution_count": null,
   "id": "e617f733",
   "metadata": {},
   "outputs": [],
   "source": []
  }
 ],
 "metadata": {
  "kernelspec": {
   "display_name": "Python 3 (ipykernel)",
   "language": "python",
   "name": "python3"
  },
  "language_info": {
   "codemirror_mode": {
    "name": "ipython",
    "version": 3
   },
   "file_extension": ".py",
   "mimetype": "text/x-python",
   "name": "python",
   "nbconvert_exporter": "python",
   "pygments_lexer": "ipython3",
   "version": "3.9.6"
  }
 },
 "nbformat": 4,
 "nbformat_minor": 5
}
